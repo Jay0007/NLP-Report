{
  "nbformat": 4,
  "nbformat_minor": 0,
  "metadata": {
    "colab": {
      "name": "Untitled5.ipynb",
      "provenance": [],
      "collapsed_sections": []
    },
    "kernelspec": {
      "name": "python3",
      "display_name": "Python 3"
    },
    "accelerator": "GPU"
  },
  "cells": [
    {
      "cell_type": "code",
      "metadata": {
        "id": "4j5Ua08bMej3",
        "colab_type": "code",
        "colab": {}
      },
      "source": [
        "import pandas as pd\n",
        "from sklearn.model_selection import train_test_split\n",
        "import numpy as np\n",
        "import matplotlib.pyplot as plt# Create the  and show it# For the predictions, since they're on the GPU, we need to move them to the CPU\n"
      ],
      "execution_count": 0,
      "outputs": []
    },
    {
      "cell_type": "code",
      "metadata": {
        "id": "rn0_qfRnMqnw",
        "colab_type": "code",
        "outputId": "3ae8d329-0ed9-4101-8eb7-7eaeb3febf20",
        "colab": {
          "base_uri": "https://localhost:8080/",
          "height": 359
        }
      },
      "source": [
        "dataset= pd.read_csv('/content/drive/My Drive/Natural language processing/housing.csv')\n",
        "dataset.head(10)"
      ],
      "execution_count": 2,
      "outputs": [
        {
          "output_type": "execute_result",
          "data": {
            "text/html": [
              "<div>\n",
              "<style scoped>\n",
              "    .dataframe tbody tr th:only-of-type {\n",
              "        vertical-align: middle;\n",
              "    }\n",
              "\n",
              "    .dataframe tbody tr th {\n",
              "        vertical-align: top;\n",
              "    }\n",
              "\n",
              "    .dataframe thead th {\n",
              "        text-align: right;\n",
              "    }\n",
              "</style>\n",
              "<table border=\"1\" class=\"dataframe\">\n",
              "  <thead>\n",
              "    <tr style=\"text-align: right;\">\n",
              "      <th></th>\n",
              "      <th>longitude</th>\n",
              "      <th>latitude</th>\n",
              "      <th>housing_median_age</th>\n",
              "      <th>total_rooms</th>\n",
              "      <th>total_bedrooms</th>\n",
              "      <th>population</th>\n",
              "      <th>households</th>\n",
              "      <th>median_income</th>\n",
              "      <th>median_house_value</th>\n",
              "      <th>ocean_proximity</th>\n",
              "    </tr>\n",
              "  </thead>\n",
              "  <tbody>\n",
              "    <tr>\n",
              "      <th>0</th>\n",
              "      <td>-122.23</td>\n",
              "      <td>37.88</td>\n",
              "      <td>41.0</td>\n",
              "      <td>880.0</td>\n",
              "      <td>129.0</td>\n",
              "      <td>322.0</td>\n",
              "      <td>126.0</td>\n",
              "      <td>8.3252</td>\n",
              "      <td>452600.0</td>\n",
              "      <td>NEAR BAY</td>\n",
              "    </tr>\n",
              "    <tr>\n",
              "      <th>1</th>\n",
              "      <td>-122.22</td>\n",
              "      <td>37.86</td>\n",
              "      <td>21.0</td>\n",
              "      <td>7099.0</td>\n",
              "      <td>1106.0</td>\n",
              "      <td>2401.0</td>\n",
              "      <td>1138.0</td>\n",
              "      <td>8.3014</td>\n",
              "      <td>358500.0</td>\n",
              "      <td>NEAR BAY</td>\n",
              "    </tr>\n",
              "    <tr>\n",
              "      <th>2</th>\n",
              "      <td>-122.24</td>\n",
              "      <td>37.85</td>\n",
              "      <td>52.0</td>\n",
              "      <td>1467.0</td>\n",
              "      <td>190.0</td>\n",
              "      <td>496.0</td>\n",
              "      <td>177.0</td>\n",
              "      <td>7.2574</td>\n",
              "      <td>352100.0</td>\n",
              "      <td>NEAR BAY</td>\n",
              "    </tr>\n",
              "    <tr>\n",
              "      <th>3</th>\n",
              "      <td>-122.25</td>\n",
              "      <td>37.85</td>\n",
              "      <td>52.0</td>\n",
              "      <td>1274.0</td>\n",
              "      <td>235.0</td>\n",
              "      <td>558.0</td>\n",
              "      <td>219.0</td>\n",
              "      <td>5.6431</td>\n",
              "      <td>341300.0</td>\n",
              "      <td>NEAR BAY</td>\n",
              "    </tr>\n",
              "    <tr>\n",
              "      <th>4</th>\n",
              "      <td>-122.25</td>\n",
              "      <td>37.85</td>\n",
              "      <td>52.0</td>\n",
              "      <td>1627.0</td>\n",
              "      <td>280.0</td>\n",
              "      <td>565.0</td>\n",
              "      <td>259.0</td>\n",
              "      <td>3.8462</td>\n",
              "      <td>342200.0</td>\n",
              "      <td>NEAR BAY</td>\n",
              "    </tr>\n",
              "    <tr>\n",
              "      <th>5</th>\n",
              "      <td>-122.25</td>\n",
              "      <td>37.85</td>\n",
              "      <td>52.0</td>\n",
              "      <td>919.0</td>\n",
              "      <td>213.0</td>\n",
              "      <td>413.0</td>\n",
              "      <td>193.0</td>\n",
              "      <td>4.0368</td>\n",
              "      <td>269700.0</td>\n",
              "      <td>NEAR BAY</td>\n",
              "    </tr>\n",
              "    <tr>\n",
              "      <th>6</th>\n",
              "      <td>-122.25</td>\n",
              "      <td>37.84</td>\n",
              "      <td>52.0</td>\n",
              "      <td>2535.0</td>\n",
              "      <td>489.0</td>\n",
              "      <td>1094.0</td>\n",
              "      <td>514.0</td>\n",
              "      <td>3.6591</td>\n",
              "      <td>299200.0</td>\n",
              "      <td>NEAR BAY</td>\n",
              "    </tr>\n",
              "    <tr>\n",
              "      <th>7</th>\n",
              "      <td>-122.25</td>\n",
              "      <td>37.84</td>\n",
              "      <td>52.0</td>\n",
              "      <td>3104.0</td>\n",
              "      <td>687.0</td>\n",
              "      <td>1157.0</td>\n",
              "      <td>647.0</td>\n",
              "      <td>3.1200</td>\n",
              "      <td>241400.0</td>\n",
              "      <td>NEAR BAY</td>\n",
              "    </tr>\n",
              "    <tr>\n",
              "      <th>8</th>\n",
              "      <td>-122.26</td>\n",
              "      <td>37.84</td>\n",
              "      <td>42.0</td>\n",
              "      <td>2555.0</td>\n",
              "      <td>665.0</td>\n",
              "      <td>1206.0</td>\n",
              "      <td>595.0</td>\n",
              "      <td>2.0804</td>\n",
              "      <td>226700.0</td>\n",
              "      <td>NEAR BAY</td>\n",
              "    </tr>\n",
              "    <tr>\n",
              "      <th>9</th>\n",
              "      <td>-122.25</td>\n",
              "      <td>37.84</td>\n",
              "      <td>52.0</td>\n",
              "      <td>3549.0</td>\n",
              "      <td>707.0</td>\n",
              "      <td>1551.0</td>\n",
              "      <td>714.0</td>\n",
              "      <td>3.6912</td>\n",
              "      <td>261100.0</td>\n",
              "      <td>NEAR BAY</td>\n",
              "    </tr>\n",
              "  </tbody>\n",
              "</table>\n",
              "</div>"
            ],
            "text/plain": [
              "   longitude  latitude  ...  median_house_value  ocean_proximity\n",
              "0    -122.23     37.88  ...            452600.0         NEAR BAY\n",
              "1    -122.22     37.86  ...            358500.0         NEAR BAY\n",
              "2    -122.24     37.85  ...            352100.0         NEAR BAY\n",
              "3    -122.25     37.85  ...            341300.0         NEAR BAY\n",
              "4    -122.25     37.85  ...            342200.0         NEAR BAY\n",
              "5    -122.25     37.85  ...            269700.0         NEAR BAY\n",
              "6    -122.25     37.84  ...            299200.0         NEAR BAY\n",
              "7    -122.25     37.84  ...            241400.0         NEAR BAY\n",
              "8    -122.26     37.84  ...            226700.0         NEAR BAY\n",
              "9    -122.25     37.84  ...            261100.0         NEAR BAY\n",
              "\n",
              "[10 rows x 10 columns]"
            ]
          },
          "metadata": {
            "tags": []
          },
          "execution_count": 2
        }
      ]
    },
    {
      "cell_type": "code",
      "metadata": {
        "id": "gnB-quh9EUqa",
        "colab_type": "code",
        "colab": {
          "base_uri": "https://localhost:8080/",
          "height": 628
        },
        "outputId": "4fbeac55-10d1-47a3-ebca-b721e51b7c8d"
      },
      "source": [
        "import matplotlib.pyplot as plt# Create the plot and show it# For the predictions, since they're on the GPU, we need to move them to the CPU\n",
        "t = np.arange(0.0, 18)\n",
        "print(t)\n",
        "ax1 = plt.subplot(919)\n",
        "plt.plot(t, dataset['median_house_value'][0:18], color='blue', label= 'hey')\n",
        "plt.legend('Model length',loc='lower right')\n",
        "plt.setp(ax1.get_xticklabels(), fontsize=6)\n",
        "\n",
        "ax2 = plt.subplot(911, sharex=ax1)\n",
        "plt.plot(t, dataset['longitude'][0:18], color='darkred')\n",
        "plt.legend('longitude',loc='lower right')\n",
        "plt.setp(ax2.get_xticklabels(), visible=False)\n",
        "\n",
        "ax2 = plt.subplot(912, sharex=ax1)\n",
        "plt.plot(t, dataset['latitude'][0:18], color='blue')\n",
        "plt.legend('latitude',loc='lower center')\n",
        "\n",
        "plt.setp(ax2.get_xticklabels(), visible=False)\n",
        "\n",
        "ax2 = plt.subplot(913, sharex=ax1)\n",
        "plt.plot(t, dataset['housing_median_age'][0:18], color='purple')\n",
        "plt.legend('housing_median_age',loc='lower right')\n",
        "plt.setp(ax2.get_xticklabels(), visible=False)\n",
        "\n",
        "ax2 = plt.subplot(914, sharex=ax1)\n",
        "plt.plot(t, dataset['total_rooms'][0:18], color='grey')\n",
        "plt.legend('total_rooms',loc='lower left')\n",
        "plt.setp(ax2.get_xticklabels(), visible=False)\n",
        "\n",
        "ax2 = plt.subplot(915, sharex=ax1)\n",
        "plt.plot(t, dataset['total_bedrooms'][0:18], color='orange')\n",
        "plt.legend('total_bedrooms',loc='lower left')\n",
        "plt.setp(ax2.get_xticklabels(), visible=False)\n",
        "\n",
        "ax2 = plt.subplot(916, sharex=ax1)\n",
        "plt.plot(t, dataset['population'][0:18], color='green')\n",
        "plt.legend('population',loc='lower left')\n",
        "plt.setp(ax2.get_xticklabels(), visible=False)\n",
        "\n",
        "ax2 = plt.subplot(917, sharex=ax1)\n",
        "plt.plot(t, dataset['households'][0:18], color='pink')\n",
        "plt.legend('households',loc='lower left')\n",
        "plt.setp(ax2.get_xticklabels(), visible=False)\n",
        "\n",
        "\n",
        "ax2 = plt.subplot(918, sharex=ax1)\n",
        "plt.plot(t, dataset['median_income'][0:18], color='red')\n",
        "plt.legend('median_income',loc='lower right')\n",
        "plt.setp(ax2.get_xticklabels(), visible=False)\n",
        "\n",
        "\n"
      ],
      "execution_count": 3,
      "outputs": [
        {
          "output_type": "stream",
          "text": [
            "[ 0.  1.  2.  3.  4.  5.  6.  7.  8.  9. 10. 11. 12. 13. 14. 15. 16. 17.]\n"
          ],
          "name": "stdout"
        },
        {
          "output_type": "execute_result",
          "data": {
            "text/plain": [
              "[None,\n",
              " None,\n",
              " None,\n",
              " None,\n",
              " None,\n",
              " None,\n",
              " None,\n",
              " None,\n",
              " None,\n",
              " None,\n",
              " None,\n",
              " None,\n",
              " None,\n",
              " None,\n",
              " None,\n",
              " None,\n",
              " None,\n",
              " None,\n",
              " None,\n",
              " None]"
            ]
          },
          "metadata": {
            "tags": []
          },
          "execution_count": 3
        },
        {
          "output_type": "display_data",
          "data": {
            "image/png": "[encoded data removed]",
            "text/plain": [
              "<Figure size 432x288 with 9 Axes>"
            ]
          },
          "metadata": {
            "tags": []
          }
        }
      ]
    },
    {
      "cell_type": "code",
      "metadata": {
        "id": "K8ECQPjgNNNo",
        "colab_type": "code",
        "colab": {}
      },
      "source": [
        "dataset= dataset.dropna()\n",
        "y= dataset['median_house_value']\n",
        "x=dataset.loc[:,'longitude':'median_income']\n"
      ],
      "execution_count": 0,
      "outputs": []
    },
    {
      "cell_type": "code",
      "metadata": {
        "id": "RDRqtjbAsP6Y",
        "colab_type": "code",
        "colab": {}
      },
      "source": [
        "x_train,x_test,y_train,y_test=train_test_split(x,y,test_size=0.3)\n"
      ],
      "execution_count": 0,
      "outputs": []
    },
    {
      "cell_type": "code",
      "metadata": {
        "id": "0gVNz335sbbI",
        "colab_type": "code",
        "outputId": "23dc04eb-a219-4ac5-bb29-c957c80a01e0",
        "colab": {
          "base_uri": "https://localhost:8080/",
          "height": 34
        }
      },
      "source": [
        "x.shape"
      ],
      "execution_count": 6,
      "outputs": [
        {
          "output_type": "execute_result",
          "data": {
            "text/plain": [
              "(20433, 8)"
            ]
          },
          "metadata": {
            "tags": []
          },
          "execution_count": 6
        }
      ]
    },
    {
      "cell_type": "code",
      "metadata": {
        "id": "25HSvTZ4ssOl",
        "colab_type": "code",
        "outputId": "2a39c834-a13e-4133-ab97-43e3829b4517",
        "colab": {
          "base_uri": "https://localhost:8080/",
          "height": 34
        }
      },
      "source": [
        "y.shape"
      ],
      "execution_count": 7,
      "outputs": [
        {
          "output_type": "execute_result",
          "data": {
            "text/plain": [
              "(20433,)"
            ]
          },
          "metadata": {
            "tags": []
          },
          "execution_count": 7
        }
      ]
    },
    {
      "cell_type": "code",
      "metadata": {
        "id": "olcGYSe1tETv",
        "colab_type": "code",
        "colab": {}
      },
      "source": [
        "x_train_np= x_train.to_numpy()\n",
        "y_train_np= y_train.to_numpy()\n",
        "\n",
        "x_test_np= x_test.to_numpy()\n",
        "y_test_np= y_test.to_numpy()\n",
        "\n"
      ],
      "execution_count": 0,
      "outputs": []
    },
    {
      "cell_type": "code",
      "metadata": {
        "id": "WxwZDJ-3t4-h",
        "colab_type": "code",
        "colab": {}
      },
      "source": [
        "import torch\n",
        "from torch.nn import Conv1d\n",
        "from torch.nn import MaxPool1d\n",
        "from torch.nn import Flatten\n",
        "from torch.nn import Linear\n",
        "from torch.nn.functional import relu\n",
        "from torch.utils.data import DataLoader,TensorDataset"
      ],
      "execution_count": 0,
      "outputs": []
    },
    {
      "cell_type": "code",
      "metadata": {
        "id": "yCSxWhTeuQWm",
        "colab_type": "code",
        "colab": {}
      },
      "source": [
        "class CnnRegressor(torch.nn.Module):\n",
        "  def __init__(self,batch_size,inputs, outputs):\n",
        "    super(CnnRegressor, self).__init__()\n",
        "    self.batch_size= batch_size\n",
        "    self.inputs = inputs\n",
        "    self.outputs = outputs\n",
        "    \n",
        "    self.input_layer= Conv1d(inputs, batch_size,1)\n",
        "    self.max_pooling_layer= MaxPool1d(1)\n",
        "    self.conv_layer= Conv1d(batch_size, 64, 1)\n",
        "\n",
        "    self.conv2_layer= Conv1d(64, 32, 1)\n",
        "\n",
        "    self.flatten_layer= Flatten()\n",
        "    self.linear_layer= Linear(32, 16)\n",
        "\n",
        "    self.output_layer = Linear(16, outputs)\n",
        "\n",
        "  def feed(self, input):\n",
        "    # Reshape the entry so it can be fed to the input layer\n",
        "    # Although we’re using 1D convolution, it still expects a 3D array to process in a 1D fashion\n",
        "    input = input.reshape((self.batch_size, self.inputs, 1))\n",
        "    # Get the output of the first layer and run it through the\n",
        "    # the ReLU activation function\n",
        "    output = relu(self.input_layer(input))\n",
        "    # Get the output of the max pooling layer\n",
        "    output = self.max_pooling_layer(output) # Get the output of the second convolution layer and run it\n",
        "    output = relu(self.conv_layer(output))\n",
        "\n",
        "    output = self.max_pooling_layer(output) # Get the output of the second convolution layer and run it\n",
        "    output = relu(self.conv2_layer(output))\n",
        "\n",
        "\n",
        "    # Get the output of the flatten layer\n",
        "    output = self.flatten_layer(output)\n",
        "    # Get the output of the linear layer and run it through the\n",
        "    # ReLU activation function\n",
        "    output = self.linear_layer(output)\n",
        "    # Finally, get the output of the output layer and return it\n",
        "    output = self.output_layer(output)\n",
        "    return output"
      ],
      "execution_count": 0,
      "outputs": []
    },
    {
      "cell_type": "code",
      "metadata": {
        "id": "rkeBD1Rfx9Aa",
        "colab_type": "code",
        "outputId": "a8c84d17-8696-45e8-a007-2b672b6c4a90",
        "colab": {
          "base_uri": "https://localhost:8080/",
          "height": 51
        }
      },
      "source": [
        "from torch.optim import Adam\n",
        "\n",
        "from torch.nn import L1Loss\n",
        "\n",
        "!pip install pytorch-ignite\n",
        "from ignite.contrib.metrics.regression.r2_score import R2Score"
      ],
      "execution_count": 11,
      "outputs": [
        {
          "output_type": "stream",
          "text": [
            "Requirement already satisfied: pytorch-ignite in /usr/local/lib/python3.6/dist-packages (0.3.0)\n",
            "Requirement already satisfied: torch in /usr/local/lib/python3.6/dist-packages (from pytorch-ignite) (1.4.0)\n"
          ],
          "name": "stdout"
        }
      ]
    },
    {
      "cell_type": "code",
      "metadata": {
        "id": "rZP_MmUTyFDZ",
        "colab_type": "code",
        "outputId": "f773e69c-1bbf-4663-c75a-881f08775b53",
        "colab": {
          "base_uri": "https://localhost:8080/",
          "height": 170
        }
      },
      "source": [
        "batch_size = 32\n",
        "# (batch size, X columns, Y columns)\n",
        "r1110211_1dconv_reg = CnnRegressor(batch_size, x.shape[1], 1) # Set the model to use the GPU for processing\n",
        "r1110211_1dconv_reg.cuda()"
      ],
      "execution_count": 12,
      "outputs": [
        {
          "output_type": "execute_result",
          "data": {
            "text/plain": [
              "CnnRegressor(\n",
              "  (input_layer): Conv1d(8, 32, kernel_size=(1,), stride=(1,))\n",
              "  (max_pooling_layer): MaxPool1d(kernel_size=1, stride=1, padding=0, dilation=1, ceil_mode=False)\n",
              "  (conv_layer): Conv1d(32, 64, kernel_size=(1,), stride=(1,))\n",
              "  (conv2_layer): Conv1d(64, 32, kernel_size=(1,), stride=(1,))\n",
              "  (flatten_layer): Flatten()\n",
              "  (linear_layer): Linear(in_features=32, out_features=16, bias=True)\n",
              "  (output_layer): Linear(in_features=16, out_features=1, bias=True)\n",
              ")"
            ]
          },
          "metadata": {
            "tags": []
          },
          "execution_count": 12
        }
      ]
    },
    {
      "cell_type": "code",
      "metadata": {
        "id": "KdNbADauyxxH",
        "colab_type": "code",
        "colab": {}
      },
      "source": [
        "def model_loss(r1110211_1dconv_reg, dataset, train = False, optimizer = None):\n",
        "  performance = L1Loss()\n",
        "  score_metric = R2Score()\n",
        "\n",
        "  avg_score= 0\n",
        "  avg_loss=0\n",
        "\n",
        "  count=0\n",
        "\n",
        "  for input, output in iter(dataset):\n",
        "    predictions=r1110211_1dconv_reg.feed(input)\n",
        "\n",
        "    loss=performance(predictions,output)\n",
        "\n",
        "    score_metric.update([predictions,output])\n",
        "    score=score_metric.compute()\n",
        "\n",
        "    if(train):\n",
        "      optimizer.zero_grad()\n",
        "      loss.backward()\n",
        "      optimizer.step()\n",
        "    avg_loss +=loss.item()\n",
        "    avg_score+= score\n",
        "    count+=1\n",
        "\n",
        "  return avg_loss/count, avg_score/count"
      ],
      "execution_count": 0,
      "outputs": []
    },
    {
      "cell_type": "code",
      "metadata": {
        "id": "fqe67CgQ0PLs",
        "colab_type": "code",
        "outputId": "9b0180f2-fe59-410b-b317-990b875ad8de",
        "colab": {
          "base_uri": "https://localhost:8080/",
          "height": 1000
        }
      },
      "source": [
        "# Define the number of epochs to train for\n",
        "epochs = 500\n",
        "e1=[]\n",
        "r2=[]\n",
        "l1=[]\n",
        "# Define the performance measure and optimizer\n",
        "optimizer = Adam(r1110211_1dconv_reg.parameters(), lr=1e-3) # Convert the training set into torch variables for our model using the GPU\n",
        "# as floats. The reshape is to remove a warning pytorch outputs otherwise.\n",
        "inputs = torch.from_numpy(x_train_np).cuda().float()\n",
        "outputs = torch.from_numpy(y_train_np.reshape(y_train_np.shape[0], 1)).cuda().float()\n",
        "# Create a DataLoader instance to work with our batches\n",
        "tensor = TensorDataset(inputs, outputs)\n",
        "loader = DataLoader(tensor, batch_size, shuffle=True, drop_last=True) # Start the training loop\n",
        "for epoch in range(epochs):\n",
        "  e1.append(epoch+1)\n",
        "  # Cycle through the batches and get the average loss\n",
        "  avg_loss, avg_r2_score = model_loss(r1110211_1dconv_reg, loader, train=True, optimizer=optimizer)\n",
        "  r2.append(avg_r2_score)\n",
        "  l1.append(avg_loss)\n",
        "  # Output the average loss\n",
        "  print(\"Epoch \" + str(epoch + 1) + \":\\tLoss = \" + str(avg_loss) + \"\\n\\tR^2 Score = \" + str(avg_r2_score))"
      ],
      "execution_count": 14,
      "outputs": [
        {
          "output_type": "stream",
          "text": [
            "Epoch 1:\tLoss = 129677.64039728139\n",
            "\tR^2 Score = -1.990992120219899\n",
            "Epoch 2:\tLoss = 91577.21384529148\n",
            "\tR^2 Score = -0.4648964778877245\n",
            "Epoch 3:\tLoss = 80763.84788396861\n",
            "\tR^2 Score = 0.16729368978825945\n",
            "Epoch 4:\tLoss = 79009.96808436098\n",
            "\tR^2 Score = 0.1777587956369593\n",
            "Epoch 5:\tLoss = 77412.8200935398\n",
            "\tR^2 Score = 0.2310106576623732\n",
            "Epoch 6:\tLoss = 76134.4894811519\n",
            "\tR^2 Score = 0.2326736421087709\n",
            "Epoch 7:\tLoss = 74481.80751646581\n",
            "\tR^2 Score = 0.28108500659657887\n",
            "Epoch 8:\tLoss = 72345.77826338285\n",
            "\tR^2 Score = 0.32516023398741384\n",
            "Epoch 9:\tLoss = 70012.56675658633\n",
            "\tR^2 Score = 0.3657661381555879\n",
            "Epoch 10:\tLoss = 67631.16441283633\n",
            "\tR^2 Score = 0.39812563162902104\n",
            "Epoch 11:\tLoss = 65664.56160664238\n",
            "\tR^2 Score = 0.43133622363483587\n",
            "Epoch 12:\tLoss = 63760.48866661995\n",
            "\tR^2 Score = 0.46334772794739826\n",
            "Epoch 13:\tLoss = 62911.77727368273\n",
            "\tR^2 Score = 0.4735461084126135\n",
            "Epoch 14:\tLoss = 61572.298197519616\n",
            "\tR^2 Score = 0.4895422143477297\n",
            "Epoch 15:\tLoss = 60510.64503047926\n",
            "\tR^2 Score = 0.49933434679125605\n",
            "Epoch 16:\tLoss = 59457.15172190303\n",
            "\tR^2 Score = 0.5215135395915357\n",
            "Epoch 17:\tLoss = 58689.99635212304\n",
            "\tR^2 Score = 0.523245177356826\n",
            "Epoch 18:\tLoss = 57809.70888803251\n",
            "\tR^2 Score = 0.5315916667590985\n",
            "Epoch 19:\tLoss = 57173.35256095852\n",
            "\tR^2 Score = 0.5639516492578612\n",
            "Epoch 20:\tLoss = 56120.63861932455\n",
            "\tR^2 Score = 0.5584072568639397\n",
            "Epoch 21:\tLoss = 55902.45094415639\n",
            "\tR^2 Score = 0.5628219665814963\n",
            "Epoch 22:\tLoss = 54644.81652010931\n",
            "\tR^2 Score = 0.5679974718170429\n",
            "Epoch 23:\tLoss = 54514.1291252102\n",
            "\tR^2 Score = 0.5864881156726129\n",
            "Epoch 24:\tLoss = 54027.30147754344\n",
            "\tR^2 Score = 0.5914380379454535\n",
            "Epoch 25:\tLoss = 54097.212474600616\n",
            "\tR^2 Score = 0.575869343201587\n",
            "Epoch 26:\tLoss = 53149.96947694787\n",
            "\tR^2 Score = 0.5919930901605691\n",
            "Epoch 27:\tLoss = 52707.19230836603\n",
            "\tR^2 Score = 0.6061272005510312\n",
            "Epoch 28:\tLoss = 52659.013417881164\n",
            "\tR^2 Score = 0.6198859533981296\n",
            "Epoch 29:\tLoss = 51729.817106922645\n",
            "\tR^2 Score = 0.610025839158884\n",
            "Epoch 30:\tLoss = 51963.849180213\n",
            "\tR^2 Score = 0.6109076984682266\n",
            "Epoch 31:\tLoss = 52089.7648630185\n",
            "\tR^2 Score = 0.6165131830435253\n",
            "Epoch 32:\tLoss = 51523.50095466648\n",
            "\tR^2 Score = 0.6143110412134312\n",
            "Epoch 33:\tLoss = 50944.85588915359\n",
            "\tR^2 Score = 0.6247253853689806\n",
            "Epoch 34:\tLoss = 50696.36625035034\n",
            "\tR^2 Score = 0.6229143482380397\n",
            "Epoch 35:\tLoss = 50689.27073553111\n",
            "\tR^2 Score = 0.626931249528216\n",
            "Epoch 36:\tLoss = 50733.630517797086\n",
            "\tR^2 Score = 0.628659857899973\n",
            "Epoch 37:\tLoss = 50987.013514223654\n",
            "\tR^2 Score = 0.611066618771199\n",
            "Epoch 38:\tLoss = 50117.14786820347\n",
            "\tR^2 Score = 0.633711233909178\n",
            "Epoch 39:\tLoss = 50853.192868904145\n",
            "\tR^2 Score = 0.6254966008381091\n",
            "Epoch 40:\tLoss = 49931.69024138173\n",
            "\tR^2 Score = 0.6361214228723323\n",
            "Epoch 41:\tLoss = 50234.51455209501\n",
            "\tR^2 Score = 0.6276717569390879\n",
            "Epoch 42:\tLoss = 50090.39905496777\n",
            "\tR^2 Score = 0.6330110032162973\n",
            "Epoch 43:\tLoss = 50330.88949516536\n",
            "\tR^2 Score = 0.6369493090211945\n",
            "Epoch 44:\tLoss = 50305.0683637542\n",
            "\tR^2 Score = 0.6389924632755205\n",
            "Epoch 45:\tLoss = 50138.19929319647\n",
            "\tR^2 Score = 0.6467782173216496\n",
            "Epoch 46:\tLoss = 49761.977477753644\n",
            "\tR^2 Score = 0.6360365431124351\n",
            "Epoch 47:\tLoss = 49689.026914588\n",
            "\tR^2 Score = 0.6365533406605626\n",
            "Epoch 48:\tLoss = 49620.66917303111\n",
            "\tR^2 Score = 0.6478000035252546\n",
            "Epoch 49:\tLoss = 50018.920504309135\n",
            "\tR^2 Score = 0.6298781600650996\n",
            "Epoch 50:\tLoss = 49712.54439199131\n",
            "\tR^2 Score = 0.6446603955676601\n"
          ],
          "name": "stdout"
        }
      ]
    },
    {
      "cell_type": "code",
      "metadata": {
        "id": "NbWhWD80Dqne",
        "colab_type": "code",
        "colab": {
          "base_uri": "https://localhost:8080/",
          "height": 282
        },
        "outputId": "ab5c5807-f088-4a22-c254-a86f15638b89"
      },
      "source": [
        "plt.plot(e1,l1, color='red')\n"
      ],
      "execution_count": 15,
      "outputs": [
        {
          "output_type": "execute_result",
          "data": {
            "text/plain": [
              "[<matplotlib.lines.Line2D at 0x7fca44fc5470>]"
            ]
          },
          "metadata": {
            "tags": []
          },
          "execution_count": 15
        },
        {
          "output_type": "display_data",
          "data": {
            "image/png": "[encoded data removed]",
            "text/plain": [
              "<Figure size 432x288 with 1 Axes>"
            ]
          },
          "metadata": {
            "tags": []
          }
        }
      ]
    },
    {
      "cell_type": "code",
      "metadata": {
        "id": "QftvPPM6GbC3",
        "colab_type": "code",
        "colab": {
          "base_uri": "https://localhost:8080/",
          "height": 282
        },
        "outputId": "c4383041-15ef-496b-9b72-da931c7ebf2e"
      },
      "source": [
        "plt.plot(e1,r2, color='blue')"
      ],
      "execution_count": 16,
      "outputs": [
        {
          "output_type": "execute_result",
          "data": {
            "text/plain": [
              "[<matplotlib.lines.Line2D at 0x7fca444e6748>]"
            ]
          },
          "metadata": {
            "tags": []
          },
          "execution_count": 16
        },
        {
          "output_type": "display_data",
          "data": {
            "image/png": "[encoded data removed]",
            "text/plain": [
              "<Figure size 432x288 with 1 Axes>"
            ]
          },
          "metadata": {
            "tags": []
          }
        }
      ]
    },
    {
      "cell_type": "code",
      "metadata": {
        "id": "A7Y77wSw7sKo",
        "colab_type": "code",
        "outputId": "cf0b2147-6ff8-4065-8e35-bec9b3e9fe5b",
        "colab": {
          "base_uri": "https://localhost:8080/",
          "height": 51
        }
      },
      "source": [
        "# Convert the testing set into torch variables for our model using the GPU\n",
        "# as floats\n",
        "inputs = torch.from_numpy(x_test_np).cuda().float()\n",
        "outputs = torch.from_numpy(y_test_np.reshape(y_test_np.shape[0], 1)).cuda().float()\n",
        "# Create a DataLoader instance to work with our batches\n",
        "tensor = TensorDataset(inputs, outputs)\n",
        "loader = DataLoader(tensor, batch_size, shuffle=True, drop_last=True) # Output the average performance of the model\n",
        "avg_loss, avg_r2_score = model_loss(r1110211_1dconv_reg, loader)\n",
        "print(\"The model's L1 loss is: \" + str(avg_loss))\n",
        "print(\"The model's R^2 score is: \" + str(avg_r2_score))\n"
      ],
      "execution_count": 17,
      "outputs": [
        {
          "output_type": "stream",
          "text": [
            "The model's L1 loss is: 52752.124161485604\n",
            "The model's R^2 score is: 0.6252188008589749\n"
          ],
          "name": "stdout"
        }
      ]
    },
    {
      "cell_type": "code",
      "metadata": {
        "id": "knD3U6oF7szw",
        "colab_type": "code",
        "colab": {}
      },
      "source": [
        ""
      ],
      "execution_count": 0,
      "outputs": []
    }
  ]
}