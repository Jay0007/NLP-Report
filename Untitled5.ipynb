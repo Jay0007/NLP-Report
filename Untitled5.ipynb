{
  "nbformat": 4,
  "nbformat_minor": 0,
  "metadata": {
    "colab": {
      "name": "Untitled5.ipynb",
      "provenance": [],
      "collapsed_sections": []
    },
    "kernelspec": {
      "name": "python3",
      "display_name": "Python 3"
    },
    "accelerator": "GPU"
  },
  "cells": [
    {
      "cell_type": "code",
      "metadata": {
        "id": "4j5Ua08bMej3",
        "colab_type": "code",
        "colab": {}
      },
      "source": [
        "import pandas as pd\n",
        "from sklearn.model_selection import train_test_split\n",
        "import numpy as np\n",
        "import matplotlib.pyplot as plt# Create the  and show it# For the predictions, since they're on the GPU, we need to move them to the CPU\n"
      ],
      "execution_count": 0,
      "outputs": []
    },
    {
      "cell_type": "code",
      "metadata": {
        "id": "rn0_qfRnMqnw",
        "colab_type": "code",
        "outputId": "39e2c468-f0be-4a0a-e68c-db379a8da523",
        "colab": {
          "base_uri": "https://localhost:8080/",
          "height": 359
        }
      },
      "source": [
        "dataset= pd.read_csv('/content/drive/My Drive/Natural language processing/housing.csv')\n",
        "dataset.head(10)"
      ],
      "execution_count": 2,
      "outputs": [
        {
          "output_type": "execute_result",
          "data": {
            "text/html": [
              "<div>\n",
              "<style scoped>\n",
              "    .dataframe tbody tr th:only-of-type {\n",
              "        vertical-align: middle;\n",
              "    }\n",
              "\n",
              "    .dataframe tbody tr th {\n",
              "        vertical-align: top;\n",
              "    }\n",
              "\n",
              "    .dataframe thead th {\n",
              "        text-align: right;\n",
              "    }\n",
              "</style>\n",
              "<table border=\"1\" class=\"dataframe\">\n",
              "  <thead>\n",
              "    <tr style=\"text-align: right;\">\n",
              "      <th></th>\n",
              "      <th>longitude</th>\n",
              "      <th>latitude</th>\n",
              "      <th>housing_median_age</th>\n",
              "      <th>total_rooms</th>\n",
              "      <th>total_bedrooms</th>\n",
              "      <th>population</th>\n",
              "      <th>households</th>\n",
              "      <th>median_income</th>\n",
              "      <th>median_house_value</th>\n",
              "      <th>ocean_proximity</th>\n",
              "    </tr>\n",
              "  </thead>\n",
              "  <tbody>\n",
              "    <tr>\n",
              "      <th>0</th>\n",
              "      <td>-122.23</td>\n",
              "      <td>37.88</td>\n",
              "      <td>41.0</td>\n",
              "      <td>880.0</td>\n",
              "      <td>129.0</td>\n",
              "      <td>322.0</td>\n",
              "      <td>126.0</td>\n",
              "      <td>8.3252</td>\n",
              "      <td>452600.0</td>\n",
              "      <td>NEAR BAY</td>\n",
              "    </tr>\n",
              "    <tr>\n",
              "      <th>1</th>\n",
              "      <td>-122.22</td>\n",
              "      <td>37.86</td>\n",
              "      <td>21.0</td>\n",
              "      <td>7099.0</td>\n",
              "      <td>1106.0</td>\n",
              "      <td>2401.0</td>\n",
              "      <td>1138.0</td>\n",
              "      <td>8.3014</td>\n",
              "      <td>358500.0</td>\n",
              "      <td>NEAR BAY</td>\n",
              "    </tr>\n",
              "    <tr>\n",
              "      <th>2</th>\n",
              "      <td>-122.24</td>\n",
              "      <td>37.85</td>\n",
              "      <td>52.0</td>\n",
              "      <td>1467.0</td>\n",
              "      <td>190.0</td>\n",
              "      <td>496.0</td>\n",
              "      <td>177.0</td>\n",
              "      <td>7.2574</td>\n",
              "      <td>352100.0</td>\n",
              "      <td>NEAR BAY</td>\n",
              "    </tr>\n",
              "    <tr>\n",
              "      <th>3</th>\n",
              "      <td>-122.25</td>\n",
              "      <td>37.85</td>\n",
              "      <td>52.0</td>\n",
              "      <td>1274.0</td>\n",
              "      <td>235.0</td>\n",
              "      <td>558.0</td>\n",
              "      <td>219.0</td>\n",
              "      <td>5.6431</td>\n",
              "      <td>341300.0</td>\n",
              "      <td>NEAR BAY</td>\n",
              "    </tr>\n",
              "    <tr>\n",
              "      <th>4</th>\n",
              "      <td>-122.25</td>\n",
              "      <td>37.85</td>\n",
              "      <td>52.0</td>\n",
              "      <td>1627.0</td>\n",
              "      <td>280.0</td>\n",
              "      <td>565.0</td>\n",
              "      <td>259.0</td>\n",
              "      <td>3.8462</td>\n",
              "      <td>342200.0</td>\n",
              "      <td>NEAR BAY</td>\n",
              "    </tr>\n",
              "    <tr>\n",
              "      <th>5</th>\n",
              "      <td>-122.25</td>\n",
              "      <td>37.85</td>\n",
              "      <td>52.0</td>\n",
              "      <td>919.0</td>\n",
              "      <td>213.0</td>\n",
              "      <td>413.0</td>\n",
              "      <td>193.0</td>\n",
              "      <td>4.0368</td>\n",
              "      <td>269700.0</td>\n",
              "      <td>NEAR BAY</td>\n",
              "    </tr>\n",
              "    <tr>\n",
              "      <th>6</th>\n",
              "      <td>-122.25</td>\n",
              "      <td>37.84</td>\n",
              "      <td>52.0</td>\n",
              "      <td>2535.0</td>\n",
              "      <td>489.0</td>\n",
              "      <td>1094.0</td>\n",
              "      <td>514.0</td>\n",
              "      <td>3.6591</td>\n",
              "      <td>299200.0</td>\n",
              "      <td>NEAR BAY</td>\n",
              "    </tr>\n",
              "    <tr>\n",
              "      <th>7</th>\n",
              "      <td>-122.25</td>\n",
              "      <td>37.84</td>\n",
              "      <td>52.0</td>\n",
              "      <td>3104.0</td>\n",
              "      <td>687.0</td>\n",
              "      <td>1157.0</td>\n",
              "      <td>647.0</td>\n",
              "      <td>3.1200</td>\n",
              "      <td>241400.0</td>\n",
              "      <td>NEAR BAY</td>\n",
              "    </tr>\n",
              "    <tr>\n",
              "      <th>8</th>\n",
              "      <td>-122.26</td>\n",
              "      <td>37.84</td>\n",
              "      <td>42.0</td>\n",
              "      <td>2555.0</td>\n",
              "      <td>665.0</td>\n",
              "      <td>1206.0</td>\n",
              "      <td>595.0</td>\n",
              "      <td>2.0804</td>\n",
              "      <td>226700.0</td>\n",
              "      <td>NEAR BAY</td>\n",
              "    </tr>\n",
              "    <tr>\n",
              "      <th>9</th>\n",
              "      <td>-122.25</td>\n",
              "      <td>37.84</td>\n",
              "      <td>52.0</td>\n",
              "      <td>3549.0</td>\n",
              "      <td>707.0</td>\n",
              "      <td>1551.0</td>\n",
              "      <td>714.0</td>\n",
              "      <td>3.6912</td>\n",
              "      <td>261100.0</td>\n",
              "      <td>NEAR BAY</td>\n",
              "    </tr>\n",
              "  </tbody>\n",
              "</table>\n",
              "</div>"
            ],
            "text/plain": [
              "   longitude  latitude  ...  median_house_value  ocean_proximity\n",
              "0    -122.23     37.88  ...            452600.0         NEAR BAY\n",
              "1    -122.22     37.86  ...            358500.0         NEAR BAY\n",
              "2    -122.24     37.85  ...            352100.0         NEAR BAY\n",
              "3    -122.25     37.85  ...            341300.0         NEAR BAY\n",
              "4    -122.25     37.85  ...            342200.0         NEAR BAY\n",
              "5    -122.25     37.85  ...            269700.0         NEAR BAY\n",
              "6    -122.25     37.84  ...            299200.0         NEAR BAY\n",
              "7    -122.25     37.84  ...            241400.0         NEAR BAY\n",
              "8    -122.26     37.84  ...            226700.0         NEAR BAY\n",
              "9    -122.25     37.84  ...            261100.0         NEAR BAY\n",
              "\n",
              "[10 rows x 10 columns]"
            ]
          },
          "metadata": {
            "tags": []
          },
          "execution_count": 2
        }
      ]
    },
    {
      "cell_type": "code",
      "metadata": {
        "id": "gnB-quh9EUqa",
        "colab_type": "code",
        "colab": {
          "base_uri": "https://localhost:8080/",
          "height": 628
        },
        "outputId": "913026bc-c954-4942-b7a0-e50d3bb955e1"
      },
      "source": [
        "import matplotlib.pyplot as plt# Create the plot and show it# For the predictions, since they're on the GPU, we need to move them to the CPU\n",
        "t = np.arange(0.0, 18)\n",
        "print(t)\n",
        "ax1 = plt.subplot(919)\n",
        "plt.plot(t, dataset['median_house_value'][0:18], color='blue', label= 'hey')\n",
        "plt.legend('Model length',loc='lower right')\n",
        "plt.setp(ax1.get_xticklabels(), fontsize=6)\n",
        "\n",
        "ax2 = plt.subplot(911, sharex=ax1)\n",
        "plt.plot(t, dataset['longitude'][0:18], color='darkred')\n",
        "plt.legend('longitude',loc='lower right')\n",
        "plt.setp(ax2.get_xticklabels(), visible=False)\n",
        "\n",
        "ax2 = plt.subplot(912, sharex=ax1)\n",
        "plt.plot(t, dataset['latitude'][0:18], color='blue')\n",
        "plt.legend('latitude',loc='lower center')\n",
        "\n",
        "plt.setp(ax2.get_xticklabels(), visible=False)\n",
        "\n",
        "ax2 = plt.subplot(913, sharex=ax1)\n",
        "plt.plot(t, dataset['housing_median_age'][0:18], color='purple')\n",
        "plt.legend('housing_median_age',loc='lower right')\n",
        "plt.setp(ax2.get_xticklabels(), visible=False)\n",
        "\n",
        "ax2 = plt.subplot(914, sharex=ax1)\n",
        "plt.plot(t, dataset['total_rooms'][0:18], color='grey')\n",
        "plt.legend('total_rooms',loc='lower left')\n",
        "plt.setp(ax2.get_xticklabels(), visible=False)\n",
        "\n",
        "ax2 = plt.subplot(915, sharex=ax1)\n",
        "plt.plot(t, dataset['total_bedrooms'][0:18], color='orange')\n",
        "plt.legend('total_bedrooms',loc='lower left')\n",
        "plt.setp(ax2.get_xticklabels(), visible=False)\n",
        "\n",
        "ax2 = plt.subplot(916, sharex=ax1)\n",
        "plt.plot(t, dataset['population'][0:18], color='green')\n",
        "plt.legend('population',loc='lower left')\n",
        "plt.setp(ax2.get_xticklabels(), visible=False)\n",
        "\n",
        "ax2 = plt.subplot(917, sharex=ax1)\n",
        "plt.plot(t, dataset['households'][0:18], color='pink')\n",
        "plt.legend('households',loc='lower left')\n",
        "plt.setp(ax2.get_xticklabels(), visible=False)\n",
        "\n",
        "\n",
        "ax2 = plt.subplot(918, sharex=ax1)\n",
        "plt.plot(t, dataset['median_income'][0:18], color='red')\n",
        "plt.legend('median_income',loc='lower right')\n",
        "plt.setp(ax2.get_xticklabels(), visible=False)\n",
        "\n",
        "\n"
      ],
      "execution_count": 3,
      "outputs": [
        {
          "output_type": "stream",
          "text": [
            "[ 0.  1.  2.  3.  4.  5.  6.  7.  8.  9. 10. 11. 12. 13. 14. 15. 16. 17.]\n"
          ],
          "name": "stdout"
        },
        {
          "output_type": "execute_result",
          "data": {
            "text/plain": [
              "[None,\n",
              " None,\n",
              " None,\n",
              " None,\n",
              " None,\n",
              " None,\n",
              " None,\n",
              " None,\n",
              " None,\n",
              " None,\n",
              " None,\n",
              " None,\n",
              " None,\n",
              " None,\n",
              " None,\n",
              " None,\n",
              " None,\n",
              " None,\n",
              " None,\n",
              " None]"
            ]
          },
          "metadata": {
            "tags": []
          },
          "execution_count": 3
        },
        {
          "output_type": "display_data",
          "data": {
            "image/png": "[encoded data removed]",
            "text/plain": [
              "<Figure size 432x288 with 9 Axes>"
            ]
          },
          "metadata": {
            "tags": []
          }
        }
      ]
    },
    {
      "cell_type": "code",
      "metadata": {
        "id": "K8ECQPjgNNNo",
        "colab_type": "code",
        "colab": {}
      },
      "source": [
        "dataset= dataset.dropna()\n",
        "y= dataset['median_house_value']\n",
        "x=dataset.loc[:,'longitude':'median_income']\n"
      ],
      "execution_count": 0,
      "outputs": []
    },
    {
      "cell_type": "code",
      "metadata": {
        "id": "RDRqtjbAsP6Y",
        "colab_type": "code",
        "colab": {}
      },
      "source": [
        "x_train,x_test,y_train,y_test=train_test_split(x,y,test_size=0.3)\n"
      ],
      "execution_count": 0,
      "outputs": []
    },
    {
      "cell_type": "code",
      "metadata": {
        "id": "0gVNz335sbbI",
        "colab_type": "code",
        "outputId": "4b7fc05c-982e-40db-c50e-13262ec0c487",
        "colab": {
          "base_uri": "https://localhost:8080/",
          "height": 34
        }
      },
      "source": [
        "x.shape"
      ],
      "execution_count": 6,
      "outputs": [
        {
          "output_type": "execute_result",
          "data": {
            "text/plain": [
              "(20433, 8)"
            ]
          },
          "metadata": {
            "tags": []
          },
          "execution_count": 6
        }
      ]
    },
    {
      "cell_type": "code",
      "metadata": {
        "id": "25HSvTZ4ssOl",
        "colab_type": "code",
        "outputId": "d92b3520-765e-46ea-9034-61ad73689e6d",
        "colab": {
          "base_uri": "https://localhost:8080/",
          "height": 34
        }
      },
      "source": [
        "y.shape"
      ],
      "execution_count": 7,
      "outputs": [
        {
          "output_type": "execute_result",
          "data": {
            "text/plain": [
              "(20433,)"
            ]
          },
          "metadata": {
            "tags": []
          },
          "execution_count": 7
        }
      ]
    },
    {
      "cell_type": "code",
      "metadata": {
        "id": "olcGYSe1tETv",
        "colab_type": "code",
        "colab": {}
      },
      "source": [
        "x_train_np= x_train.to_numpy()\n",
        "y_train_np= y_train.to_numpy()\n",
        "\n",
        "x_test_np= x_test.to_numpy()\n",
        "y_test_np= y_test.to_numpy()\n",
        "\n"
      ],
      "execution_count": 0,
      "outputs": []
    },
    {
      "cell_type": "code",
      "metadata": {
        "id": "WxwZDJ-3t4-h",
        "colab_type": "code",
        "colab": {}
      },
      "source": [
        "import torch\n",
        "from torch.nn import Conv1d\n",
        "from torch.nn import MaxPool1d\n",
        "from torch.nn import Flatten\n",
        "from torch.nn import Linear\n",
        "from torch.nn.functional import relu\n",
        "from torch.utils.data import DataLoader,TensorDataset"
      ],
      "execution_count": 0,
      "outputs": []
    },
    {
      "cell_type": "code",
      "metadata": {
        "id": "yCSxWhTeuQWm",
        "colab_type": "code",
        "colab": {}
      },
      "source": [
        "class CnnRegressor(torch.nn.Module):\n",
        "  def __init__(self,batch_size,inputs, outputs):\n",
        "    super(CnnRegressor, self).__init__()\n",
        "    self.batch_size= batch_size\n",
        "    self.inputs = inputs\n",
        "    self.outputs = outputs\n",
        "    \n",
        "    self.input_layer= Conv1d(inputs, batch_size,1)\n",
        "    self.max_pooling_layer= MaxPool1d(1)\n",
        "    self.conv_layer= Conv1d(batch_size, 64, 1)\n",
        "\n",
        "    self.conv2_layer= Conv1d(64, 32, 1)\n",
        "\n",
        "    self.flatten_layer= Flatten()\n",
        "    self.linear_layer= Linear(32, 16)\n",
        "\n",
        "    self.output_layer = Linear(16, outputs)\n",
        "\n",
        "  def feed(self, input):\n",
        "    # Reshape the entry so it can be fed to the input layer\n",
        "    # Although we’re using 1D convolution, it still expects a 3D array to process in a 1D fashion\n",
        "    input = input.reshape((self.batch_size, self.inputs, 1))\n",
        "    # Get the output of the first layer and run it through the\n",
        "    # the ReLU activation function\n",
        "    output = relu(self.input_layer(input))\n",
        "    # Get the output of the max pooling layer\n",
        "    output = self.max_pooling_layer(output) # Get the output of the second convolution layer and run it\n",
        "    output = relu(self.conv_layer(output))\n",
        "\n",
        "    output = self.max_pooling_layer(output) # Get the output of the second convolution layer and run it\n",
        "    output = relu(self.conv2_layer(output))\n",
        "\n",
        "\n",
        "    # Get the output of the flatten layer\n",
        "    output = self.flatten_layer(output)\n",
        "    # Get the output of the linear layer and run it through the\n",
        "    # ReLU activation function\n",
        "    output = self.linear_layer(output)\n",
        "    # Finally, get the output of the output layer and return it\n",
        "    output = self.output_layer(output)\n",
        "    return output"
      ],
      "execution_count": 0,
      "outputs": []
    },
    {
      "cell_type": "code",
      "metadata": {
        "id": "rkeBD1Rfx9Aa",
        "colab_type": "code",
        "outputId": "c633c88f-fa4f-4068-8a87-3259720a4ed8",
        "colab": {
          "base_uri": "https://localhost:8080/",
          "height": 51
        }
      },
      "source": [
        "from torch.optim import Adam\n",
        "\n",
        "from torch.nn import L1Loss\n",
        "\n",
        "!pip install pytorch-ignite\n",
        "from ignite.contrib.metrics.regression.r2_score import R2Score"
      ],
      "execution_count": 11,
      "outputs": [
        {
          "output_type": "stream",
          "text": [
            "Requirement already satisfied: pytorch-ignite in /usr/local/lib/python3.6/dist-packages (0.3.0)\n",
            "Requirement already satisfied: torch in /usr/local/lib/python3.6/dist-packages (from pytorch-ignite) (1.4.0)\n"
          ],
          "name": "stdout"
        }
      ]
    },
    {
      "cell_type": "code",
      "metadata": {
        "id": "rZP_MmUTyFDZ",
        "colab_type": "code",
        "outputId": "86bff3f2-aa24-44e2-dc31-7c116d0df99e",
        "colab": {
          "base_uri": "https://localhost:8080/",
          "height": 170
        }
      },
      "source": [
        "batch_size = 32\n",
        "# (batch size, X columns, Y columns)\n",
        "model = CnnRegressor(batch_size, x.shape[1], 1) # Set the model to use the GPU for processing\n",
        "model.cuda()"
      ],
      "execution_count": 12,
      "outputs": [
        {
          "output_type": "execute_result",
          "data": {
            "text/plain": [
              "CnnRegressor(\n",
              "  (input_layer): Conv1d(8, 32, kernel_size=(1,), stride=(1,))\n",
              "  (max_pooling_layer): MaxPool1d(kernel_size=1, stride=1, padding=0, dilation=1, ceil_mode=False)\n",
              "  (conv_layer): Conv1d(32, 64, kernel_size=(1,), stride=(1,))\n",
              "  (conv2_layer): Conv1d(64, 32, kernel_size=(1,), stride=(1,))\n",
              "  (flatten_layer): Flatten()\n",
              "  (linear_layer): Linear(in_features=32, out_features=16, bias=True)\n",
              "  (output_layer): Linear(in_features=16, out_features=1, bias=True)\n",
              ")"
            ]
          },
          "metadata": {
            "tags": []
          },
          "execution_count": 12
        }
      ]
    },
    {
      "cell_type": "code",
      "metadata": {
        "id": "KdNbADauyxxH",
        "colab_type": "code",
        "colab": {}
      },
      "source": [
        "def model_loss(model, dataset, train = False, optimizer = None):\n",
        "  performance = L1Loss()\n",
        "  score_metric = R2Score()\n",
        "\n",
        "  avg_score= 0\n",
        "  avg_loss=0\n",
        "\n",
        "  count=0\n",
        "\n",
        "  for input, output in iter(dataset):\n",
        "    predictions=model.feed(input)\n",
        "\n",
        "    loss=performance(predictions,output)\n",
        "\n",
        "    score_metric.update([predictions,output])\n",
        "    score=score_metric.compute()\n",
        "\n",
        "    if(train):\n",
        "      optimizer.zero_grad()\n",
        "      loss.backward()\n",
        "      optimizer.step()\n",
        "    avg_loss +=loss.item()\n",
        "    avg_score+= score\n",
        "    count+=1\n",
        "\n",
        "  return avg_loss/count, avg_score/count"
      ],
      "execution_count": 0,
      "outputs": []
    },
    {
      "cell_type": "code",
      "metadata": {
        "id": "fqe67CgQ0PLs",
        "colab_type": "code",
        "outputId": "39caee20-5452-4e99-fca7-39bf1dd271cb",
        "colab": {
          "base_uri": "https://localhost:8080/",
          "height": 1000
        }
      },
      "source": [
        "# Define the number of epochs to train for\n",
        "epochs = 150\n",
        "e1=[]\n",
        "r2=[]\n",
        "l1=[]\n",
        "# Define the performance measure and optimizer\n",
        "optimizer = Adam(model.parameters(), lr=1e-3) # Convert the training set into torch variables for our model using the GPU\n",
        "# as floats. The reshape is to remove a warning pytorch outputs otherwise.\n",
        "inputs = torch.from_numpy(x_train_np).cuda().float()\n",
        "outputs = torch.from_numpy(y_train_np.reshape(y_train_np.shape[0], 1)).cuda().float()\n",
        "# Create a DataLoader instance to work with our batches\n",
        "tensor = TensorDataset(inputs, outputs)\n",
        "loader = DataLoader(tensor, batch_size, shuffle=True, drop_last=True) # Start the training loop\n",
        "for epoch in range(epochs):\n",
        "  e1.append(epoch+1)\n",
        "  # Cycle through the batches and get the average loss\n",
        "  avg_loss, avg_r2_score = model_loss(model, loader, train=True, optimizer=optimizer)\n",
        "  r2.append(avg_r2_score)\n",
        "  l1.append(avg_loss)\n",
        "  # Output the average loss\n",
        "  print(\"Epoch \" + str(epoch + 1) + \":\\tLoss = \" + str(avg_loss) + \"\\n\\tR^2 Score = \" + str(avg_r2_score))"
      ],
      "execution_count": 14,
      "outputs": [
        {
          "output_type": "stream",
          "text": [
            "Epoch 1:\tLoss = 131139.10553881727\n",
            "\tR^2 Score = -2.0707897852854713\n",
            "Epoch 2:\tLoss = 94780.05944331558\n",
            "\tR^2 Score = -0.5988721763278765\n",
            "Epoch 3:\tLoss = 81768.79357308015\n",
            "\tR^2 Score = 0.12771657300251743\n",
            "Epoch 4:\tLoss = 79987.545780199\n",
            "\tR^2 Score = 0.18476497810416326\n",
            "Epoch 5:\tLoss = 78660.55006306054\n",
            "\tR^2 Score = 0.20243256154446873\n",
            "Epoch 6:\tLoss = 77255.85878818666\n",
            "\tR^2 Score = 0.2219837512648164\n",
            "Epoch 7:\tLoss = 75730.07782721413\n",
            "\tR^2 Score = 0.27100332540252603\n",
            "Epoch 8:\tLoss = 73806.40272911996\n",
            "\tR^2 Score = 0.2992588872350316\n",
            "Epoch 9:\tLoss = 71329.16153132006\n",
            "\tR^2 Score = 0.33906012456487633\n",
            "Epoch 10:\tLoss = 69100.90251015975\n",
            "\tR^2 Score = 0.38780657409103014\n",
            "Epoch 11:\tLoss = 67373.57026870796\n",
            "\tR^2 Score = 0.4039206626926541\n",
            "Epoch 12:\tLoss = 65705.18324341367\n",
            "\tR^2 Score = 0.4217654143459518\n",
            "Epoch 13:\tLoss = 64203.36199376401\n",
            "\tR^2 Score = 0.4540504323191696\n",
            "Epoch 14:\tLoss = 63685.753967558856\n",
            "\tR^2 Score = 0.46510824390605\n",
            "Epoch 15:\tLoss = 62790.56523262332\n",
            "\tR^2 Score = 0.475955377686032\n",
            "Epoch 16:\tLoss = 61458.726930353136\n",
            "\tR^2 Score = 0.49344116316201203\n",
            "Epoch 17:\tLoss = 60950.58946713845\n",
            "\tR^2 Score = 0.48896167971238175\n",
            "Epoch 18:\tLoss = 59918.30560713285\n",
            "\tR^2 Score = 0.5152884240204144\n",
            "Epoch 19:\tLoss = 59757.4039728139\n",
            "\tR^2 Score = 0.5100349628322679\n",
            "Epoch 20:\tLoss = 58583.13328545404\n",
            "\tR^2 Score = 0.5354132600418702\n",
            "Epoch 21:\tLoss = 57875.813511596134\n",
            "\tR^2 Score = 0.5396956353125177\n",
            "Epoch 22:\tLoss = 57410.6140432315\n",
            "\tR^2 Score = 0.5358574417696297\n",
            "Epoch 23:\tLoss = 56235.99812570067\n",
            "\tR^2 Score = 0.5519269096659108\n",
            "Epoch 24:\tLoss = 55711.317128818664\n",
            "\tR^2 Score = 0.5631613324452317\n",
            "Epoch 25:\tLoss = 54986.756984830434\n",
            "\tR^2 Score = 0.5671036159014421\n",
            "Epoch 26:\tLoss = 54804.91609445067\n",
            "\tR^2 Score = 0.5722140332068076\n",
            "Epoch 27:\tLoss = 54442.47366346693\n",
            "\tR^2 Score = 0.589443072737824\n",
            "Epoch 28:\tLoss = 53857.21162941424\n",
            "\tR^2 Score = 0.5870430690694988\n",
            "Epoch 29:\tLoss = 53747.751221797924\n",
            "\tR^2 Score = 0.5996502536460583\n",
            "Epoch 30:\tLoss = 53537.56628363229\n",
            "\tR^2 Score = 0.5887976943696543\n",
            "Epoch 31:\tLoss = 52930.64432542741\n",
            "\tR^2 Score = 0.5902795639657735\n",
            "Epoch 32:\tLoss = 53405.87468469731\n",
            "\tR^2 Score = 0.5843885852234222\n",
            "Epoch 33:\tLoss = 52214.07689882287\n",
            "\tR^2 Score = 0.5995439676142319\n",
            "Epoch 34:\tLoss = 52794.49977228139\n",
            "\tR^2 Score = 0.5999542640296593\n",
            "Epoch 35:\tLoss = 52331.250731327076\n",
            "\tR^2 Score = 0.6037047830242335\n",
            "Epoch 36:\tLoss = 51934.77774225757\n",
            "\tR^2 Score = 0.6146858605854734\n",
            "Epoch 37:\tLoss = 51632.551026485424\n",
            "\tR^2 Score = 0.5920973844301692\n",
            "Epoch 38:\tLoss = 51478.51962759249\n",
            "\tR^2 Score = 0.6145841910263315\n",
            "Epoch 39:\tLoss = 51973.864196503644\n",
            "\tR^2 Score = 0.6084885249843617\n",
            "Epoch 40:\tLoss = 51773.74528359725\n",
            "\tR^2 Score = 0.6134891747784451\n",
            "Epoch 41:\tLoss = 51739.022399628644\n",
            "\tR^2 Score = 0.5985401459774666\n",
            "Epoch 42:\tLoss = 51441.45803408772\n",
            "\tR^2 Score = 0.6236081003401799\n",
            "Epoch 43:\tLoss = 50972.67256691424\n",
            "\tR^2 Score = 0.6256271934468693\n",
            "Epoch 44:\tLoss = 50763.785646720855\n",
            "\tR^2 Score = 0.6289626691165092\n",
            "Epoch 45:\tLoss = 50922.85170263453\n",
            "\tR^2 Score = 0.6342435883996597\n",
            "Epoch 46:\tLoss = 50981.55921559697\n",
            "\tR^2 Score = 0.6036007969096544\n",
            "Epoch 47:\tLoss = 50734.212881866595\n",
            "\tR^2 Score = 0.6167962481931639\n",
            "Epoch 48:\tLoss = 50227.82546244394\n",
            "\tR^2 Score = 0.6335821810757676\n",
            "Epoch 49:\tLoss = 50308.187723339404\n",
            "\tR^2 Score = 0.615746027713533\n",
            "Epoch 50:\tLoss = 50533.72443420684\n",
            "\tR^2 Score = 0.6193556488358443\n",
            "Epoch 51:\tLoss = 50236.997608954596\n",
            "\tR^2 Score = 0.6225396999169792\n",
            "Epoch 52:\tLoss = 50719.22368974215\n",
            "\tR^2 Score = 0.6321067060351618\n",
            "Epoch 53:\tLoss = 50149.62922155269\n",
            "\tR^2 Score = 0.640050835369753\n",
            "Epoch 54:\tLoss = 50006.03899243273\n",
            "\tR^2 Score = 0.6411432770664611\n",
            "Epoch 55:\tLoss = 49772.29332784473\n",
            "\tR^2 Score = 0.6428706746411337\n",
            "Epoch 56:\tLoss = 50102.71243518778\n",
            "\tR^2 Score = 0.6334467167902107\n",
            "Epoch 57:\tLoss = 50105.457022491595\n",
            "\tR^2 Score = 0.6355116534286649\n",
            "Epoch 58:\tLoss = 50024.045101422365\n",
            "\tR^2 Score = 0.6456626682178275\n",
            "Epoch 59:\tLoss = 49433.66906793021\n",
            "\tR^2 Score = 0.6323781784735092\n",
            "Epoch 60:\tLoss = 49446.654476422365\n",
            "\tR^2 Score = 0.6402226539825553\n",
            "Epoch 61:\tLoss = 49484.207828265135\n",
            "\tR^2 Score = 0.6500232791563877\n",
            "Epoch 62:\tLoss = 49444.295219660875\n",
            "\tR^2 Score = 0.6401361824813565\n",
            "Epoch 63:\tLoss = 50227.69261928952\n",
            "\tR^2 Score = 0.6447392514969696\n",
            "Epoch 64:\tLoss = 49265.65177007427\n",
            "\tR^2 Score = 0.653762184032387\n",
            "Epoch 65:\tLoss = 49134.68418494255\n",
            "\tR^2 Score = 0.6423804739917043\n",
            "Epoch 66:\tLoss = 49252.75283334501\n",
            "\tR^2 Score = 0.6453886767954315\n",
            "Epoch 67:\tLoss = 49073.67352595992\n",
            "\tR^2 Score = 0.6610415420157484\n",
            "Epoch 68:\tLoss = 48938.717357413116\n",
            "\tR^2 Score = 0.6460451198512993\n",
            "Epoch 69:\tLoss = 49096.216074306336\n",
            "\tR^2 Score = 0.650139996176256\n",
            "Epoch 70:\tLoss = 49386.949253783634\n",
            "\tR^2 Score = 0.6484824403298357\n",
            "Epoch 71:\tLoss = 49237.90957819507\n",
            "\tR^2 Score = 0.6554185341443433\n",
            "Epoch 72:\tLoss = 48858.35630517797\n",
            "\tR^2 Score = 0.653956310012584\n",
            "Epoch 73:\tLoss = 49075.17834746357\n",
            "\tR^2 Score = 0.643966046739428\n",
            "Epoch 74:\tLoss = 49046.2845081278\n",
            "\tR^2 Score = 0.6603036348136913\n",
            "Epoch 75:\tLoss = 49326.94451110566\n",
            "\tR^2 Score = 0.6450421505756293\n",
            "Epoch 76:\tLoss = 49046.523214160596\n",
            "\tR^2 Score = 0.6521596347538487\n",
            "Epoch 77:\tLoss = 48785.6178400014\n",
            "\tR^2 Score = 0.6537172631879468\n",
            "Epoch 78:\tLoss = 48537.451171875\n",
            "\tR^2 Score = 0.6599392004490992\n",
            "Epoch 79:\tLoss = 48674.064444366595\n",
            "\tR^2 Score = 0.6526430360101514\n",
            "Epoch 80:\tLoss = 48601.59394268498\n",
            "\tR^2 Score = 0.6648872474783802\n",
            "Epoch 81:\tLoss = 48806.72533632287\n",
            "\tR^2 Score = 0.6454150338629889\n",
            "Epoch 82:\tLoss = 48494.13167390695\n",
            "\tR^2 Score = 0.6594989072690757\n",
            "Epoch 83:\tLoss = 48832.234769128365\n",
            "\tR^2 Score = 0.6532959117933308\n",
            "Epoch 84:\tLoss = 48414.74620760931\n",
            "\tR^2 Score = 0.65098893687968\n",
            "Epoch 85:\tLoss = 48234.82466980802\n",
            "\tR^2 Score = 0.6570876286171439\n",
            "Epoch 86:\tLoss = 48357.474000665636\n",
            "\tR^2 Score = 0.6541609510308968\n",
            "Epoch 87:\tLoss = 48418.58076566003\n",
            "\tR^2 Score = 0.6682167275847618\n",
            "Epoch 88:\tLoss = 48300.41268742993\n",
            "\tR^2 Score = 0.6555441912070461\n",
            "Epoch 89:\tLoss = 48899.68679056894\n",
            "\tR^2 Score = 0.6529901930666526\n",
            "Epoch 90:\tLoss = 48873.521992362665\n",
            "\tR^2 Score = 0.6435771702525873\n",
            "Epoch 91:\tLoss = 49088.14146580717\n",
            "\tR^2 Score = 0.6422432732232937\n",
            "Epoch 92:\tLoss = 48373.191397491595\n",
            "\tR^2 Score = 0.6541058046675907\n",
            "Epoch 93:\tLoss = 48161.198684487106\n",
            "\tR^2 Score = 0.653734025044478\n",
            "Epoch 94:\tLoss = 48170.34942544843\n",
            "\tR^2 Score = 0.6509937388889868\n",
            "Epoch 95:\tLoss = 48735.33330121917\n",
            "\tR^2 Score = 0.6687484369748047\n",
            "Epoch 96:\tLoss = 48075.202638908355\n",
            "\tR^2 Score = 0.6567526943524427\n",
            "Epoch 97:\tLoss = 48073.52017061379\n",
            "\tR^2 Score = 0.6689842334414993\n",
            "Epoch 98:\tLoss = 48611.05798066143\n",
            "\tR^2 Score = 0.654397105034993\n",
            "Epoch 99:\tLoss = 47758.410379589404\n",
            "\tR^2 Score = 0.6686206203093175\n",
            "Epoch 100:\tLoss = 48449.03726264714\n",
            "\tR^2 Score = 0.6449247295316318\n",
            "Epoch 101:\tLoss = 48008.41261298346\n",
            "\tR^2 Score = 0.6648310704719681\n",
            "Epoch 102:\tLoss = 48303.76745988649\n",
            "\tR^2 Score = 0.6609149278580367\n",
            "Epoch 103:\tLoss = 48084.07730170964\n",
            "\tR^2 Score = 0.6553081264622844\n",
            "Epoch 104:\tLoss = 48185.02765467349\n",
            "\tR^2 Score = 0.6590858857641414\n",
            "Epoch 105:\tLoss = 47799.04219801009\n",
            "\tR^2 Score = 0.6570192181578047\n",
            "Epoch 106:\tLoss = 47725.69416076934\n",
            "\tR^2 Score = 0.6695064894586465\n",
            "Epoch 107:\tLoss = 48420.960543371635\n",
            "\tR^2 Score = 0.6461846440648197\n",
            "Epoch 108:\tLoss = 47775.3720746917\n",
            "\tR^2 Score = 0.6576450935629284\n",
            "Epoch 109:\tLoss = 48188.00495725897\n",
            "\tR^2 Score = 0.6585525973675421\n",
            "Epoch 110:\tLoss = 47603.739266570905\n",
            "\tR^2 Score = 0.6632209566784115\n",
            "Epoch 111:\tLoss = 48355.5244184417\n",
            "\tR^2 Score = 0.6459287898276346\n",
            "Epoch 112:\tLoss = 47841.883066493836\n",
            "\tR^2 Score = 0.6715179759133124\n",
            "Epoch 113:\tLoss = 47727.175632357066\n",
            "\tR^2 Score = 0.6763068313711305\n",
            "Epoch 114:\tLoss = 47692.42202827214\n",
            "\tR^2 Score = 0.666665871346599\n",
            "Epoch 115:\tLoss = 47623.461152081\n",
            "\tR^2 Score = 0.6601363072746683\n",
            "Epoch 116:\tLoss = 47802.87437815303\n",
            "\tR^2 Score = 0.662582643701178\n",
            "Epoch 117:\tLoss = 47989.07283930073\n",
            "\tR^2 Score = 0.6639481844007367\n",
            "Epoch 118:\tLoss = 47629.28802900785\n",
            "\tR^2 Score = 0.6695567807522798\n",
            "Epoch 119:\tLoss = 48240.10070417601\n",
            "\tR^2 Score = 0.6475065149239915\n",
            "Epoch 120:\tLoss = 46971.891251226174\n",
            "\tR^2 Score = 0.6771960919153502\n",
            "Epoch 121:\tLoss = 47474.64705805073\n",
            "\tR^2 Score = 0.6682481005016178\n",
            "Epoch 122:\tLoss = 47339.85613876822\n",
            "\tR^2 Score = 0.6625801684016696\n",
            "Epoch 123:\tLoss = 47480.25758478139\n",
            "\tR^2 Score = 0.6609705456284163\n",
            "Epoch 124:\tLoss = 47354.77423013593\n",
            "\tR^2 Score = 0.6671814424111348\n",
            "Epoch 125:\tLoss = 47741.967405584364\n",
            "\tR^2 Score = 0.6605720075701872\n",
            "Epoch 126:\tLoss = 47389.491578790636\n",
            "\tR^2 Score = 0.6663595020370053\n",
            "Epoch 127:\tLoss = 47100.017109550165\n",
            "\tR^2 Score = 0.6669845964901713\n",
            "Epoch 128:\tLoss = 47427.1093706208\n",
            "\tR^2 Score = 0.6711276104913824\n",
            "Epoch 129:\tLoss = 47015.270328265135\n",
            "\tR^2 Score = 0.6771949992580906\n",
            "Epoch 130:\tLoss = 47556.478480591366\n",
            "\tR^2 Score = 0.6531969847532687\n",
            "Epoch 131:\tLoss = 47282.90876804232\n",
            "\tR^2 Score = 0.6675265332882565\n",
            "Epoch 132:\tLoss = 47085.008990505885\n",
            "\tR^2 Score = 0.663927499503821\n",
            "Epoch 133:\tLoss = 47308.68290183576\n",
            "\tR^2 Score = 0.6732547439707564\n",
            "Epoch 134:\tLoss = 47206.469809767375\n",
            "\tR^2 Score = 0.6570095181301816\n",
            "Epoch 135:\tLoss = 47377.68713652607\n",
            "\tR^2 Score = 0.6650475587926444\n",
            "Epoch 136:\tLoss = 46986.06628363229\n",
            "\tR^2 Score = 0.678102850454284\n",
            "Epoch 137:\tLoss = 47329.91429459782\n",
            "\tR^2 Score = 0.6630338908017643\n",
            "Epoch 138:\tLoss = 47494.3939838495\n",
            "\tR^2 Score = 0.6686758777253848\n",
            "Epoch 139:\tLoss = 46666.62197834921\n",
            "\tR^2 Score = 0.6731801476579423\n",
            "Epoch 140:\tLoss = 47174.44447169283\n",
            "\tR^2 Score = 0.6632067218219028\n",
            "Epoch 141:\tLoss = 47281.33482518217\n",
            "\tR^2 Score = 0.6671803966073908\n",
            "Epoch 142:\tLoss = 47180.98916147001\n",
            "\tR^2 Score = 0.6722185143650904\n",
            "Epoch 143:\tLoss = 46996.69729627943\n",
            "\tR^2 Score = 0.6675399985479629\n",
            "Epoch 144:\tLoss = 47193.84832626822\n",
            "\tR^2 Score = 0.6648887544917834\n",
            "Epoch 145:\tLoss = 47410.15593907651\n",
            "\tR^2 Score = 0.6564201957167426\n",
            "Epoch 146:\tLoss = 46822.73273279849\n",
            "\tR^2 Score = 0.6754240390773383\n",
            "Epoch 147:\tLoss = 47514.09541409753\n",
            "\tR^2 Score = 0.6510545364173803\n",
            "Epoch 148:\tLoss = 47262.61873773823\n",
            "\tR^2 Score = 0.6828820941717111\n",
            "Epoch 149:\tLoss = 46641.11810713285\n",
            "\tR^2 Score = 0.6701902628201202\n",
            "Epoch 150:\tLoss = 47292.07101755185\n",
            "\tR^2 Score = 0.6646315894611077\n"
          ],
          "name": "stdout"
        }
      ]
    },
    {
      "cell_type": "code",
      "metadata": {
        "id": "NbWhWD80Dqne",
        "colab_type": "code",
        "colab": {
          "base_uri": "https://localhost:8080/",
          "height": 282
        },
        "outputId": "a0a56ec3-2dcc-4a4c-bed4-1afa136ffe7c"
      },
      "source": [
        "plt.plot(e1,l1, color='red')\n"
      ],
      "execution_count": 15,
      "outputs": [
        {
          "output_type": "execute_result",
          "data": {
            "text/plain": [
              "[<matplotlib.lines.Line2D at 0x7fd019787400>]"
            ]
          },
          "metadata": {
            "tags": []
          },
          "execution_count": 15
        },
        {
          "output_type": "display_data",
          "data": {
            "image/png": "[encoded data removed]",
            "text/plain": [
              "<Figure size 432x288 with 1 Axes>"
            ]
          },
          "metadata": {
            "tags": []
          }
        }
      ]
    },
    {
      "cell_type": "code",
      "metadata": {
        "id": "QftvPPM6GbC3",
        "colab_type": "code",
        "colab": {
          "base_uri": "https://localhost:8080/",
          "height": 282
        },
        "outputId": "170f7b3a-cc29-426b-b31e-b2468363a202"
      },
      "source": [
        "plt.plot(e1,r2, color='blue')"
      ],
      "execution_count": 16,
      "outputs": [
        {
          "output_type": "execute_result",
          "data": {
            "text/plain": [
              "[<matplotlib.lines.Line2D at 0x7fd0197616d8>]"
            ]
          },
          "metadata": {
            "tags": []
          },
          "execution_count": 16
        },
        {
          "output_type": "display_data",
          "data": {
            "image/png": "[encoded data removed]",
            "text/plain": [
              "<Figure size 432x288 with 1 Axes>"
            ]
          },
          "metadata": {
            "tags": []
          }
        }
      ]
    },
    {
      "cell_type": "code",
      "metadata": {
        "id": "A7Y77wSw7sKo",
        "colab_type": "code",
        "outputId": "0b153966-846b-401a-a54b-9c3bf45868d2",
        "colab": {
          "base_uri": "https://localhost:8080/",
          "height": 51
        }
      },
      "source": [
        "# Convert the testing set into torch variables for our model using the GPU\n",
        "# as floats\n",
        "inputs = torch.from_numpy(x_test_np).cuda().float()\n",
        "outputs = torch.from_numpy(y_test_np.reshape(y_test_np.shape[0], 1)).cuda().float()\n",
        "# Create a DataLoader instance to work with our batches\n",
        "tensor = TensorDataset(inputs, outputs)\n",
        "loader = DataLoader(tensor, batch_size, shuffle=True, drop_last=True) # Output the average performance of the model\n",
        "avg_loss, avg_r2_score = model_loss(model, loader)\n",
        "print(\"The model's L1 loss is: \" + str(avg_loss))\n",
        "print(\"The model's R^2 score is: \" + str(avg_r2_score))\n"
      ],
      "execution_count": 17,
      "outputs": [
        {
          "output_type": "stream",
          "text": [
            "The model's L1 loss is: 46702.89450057264\n",
            "The model's R^2 score is: 0.6501004516493554\n"
          ],
          "name": "stdout"
        }
      ]
    },
    {
      "cell_type": "code",
      "metadata": {
        "id": "knD3U6oF7szw",
        "colab_type": "code",
        "colab": {}
      },
      "source": [
        ""
      ],
      "execution_count": 0,
      "outputs": []
    }
  ]
}